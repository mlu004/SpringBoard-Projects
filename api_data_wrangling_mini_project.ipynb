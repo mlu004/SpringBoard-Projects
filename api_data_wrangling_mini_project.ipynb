{
 "cells": [
  {
   "cell_type": "markdown",
   "metadata": {},
   "source": [
    "This exercise will require you to pull some data from the Qunadl API. Qaundl is currently the most widely used aggregator of financial market data."
   ]
  },
  {
   "cell_type": "markdown",
   "metadata": {},
   "source": [
    "As a first step, you will need to register a free account on the http://www.quandl.com website."
   ]
  },
  {
   "cell_type": "markdown",
   "metadata": {},
   "source": [
    "After you register, you will be provided with a unique API key, that you should store:"
   ]
  },
  {
   "cell_type": "code",
   "execution_count": 2,
   "metadata": {
    "jupyter": {
     "outputs_hidden": true
    }
   },
   "outputs": [],
   "source": [
    "# Store the API key as a string - according to PEP8, constants are always named in all upper case\n",
    "API_KEY = 'zczZQmNtc4PTNWxCUxza'"
   ]
  },
  {
   "cell_type": "markdown",
   "metadata": {},
   "source": [
    "Qaundl has a large number of data sources, but, unfortunately, most of them require a Premium subscription. Still, there are also a good number of free datasets."
   ]
  },
  {
   "cell_type": "markdown",
   "metadata": {},
   "source": [
    "For this mini project, we will focus on equities data from the Frankfurt Stock Exhange (FSE), which is available for free. We'll try and analyze the stock prices of a company called Carl Zeiss Meditec, which manufactures tools for eye examinations, as well as medical lasers for laser eye surgery: https://www.zeiss.com/meditec/int/home.html. The company is listed under the stock ticker AFX_X."
   ]
  },
  {
   "cell_type": "markdown",
   "metadata": {},
   "source": [
    "You can find the detailed Quandl API instructions here: https://docs.quandl.com/docs/time-series"
   ]
  },
  {
   "cell_type": "markdown",
   "metadata": {},
   "source": [
    "While there is a dedicated Python package for connecting to the Quandl API, we would prefer that you use the *requests* package, which can be easily downloaded using *pip* or *conda*. You can find the documentation for the package here: http://docs.python-requests.org/en/master/ "
   ]
  },
  {
   "cell_type": "markdown",
   "metadata": {},
   "source": [
    "Finally, apart from the *requests* package, you are encouraged to not use any third party Python packages, such as *pandas*, and instead focus on what's available in the Python Standard Library (the *collections* module might come in handy: https://pymotw.com/3/collections/ ).\n",
    "Also, since you won't have access to DataFrames, you are encouraged to us Python's native data structures - preferably dictionaries, though some questions can also be answered using lists.\n",
    "You can read more on these data structures here: https://docs.python.org/3/tutorial/datastructures.html"
   ]
  },
  {
   "cell_type": "markdown",
   "metadata": {},
   "source": [
    "Keep in mind that the JSON responses you will be getting from the API map almost one-to-one to Python's dictionaries. Unfortunately, they can be very nested, so make sure you read up on indexing dictionaries in the documentation provided above."
   ]
  },
  {
   "cell_type": "code",
   "execution_count": 3,
   "metadata": {
    "jupyter": {
     "outputs_hidden": true
    }
   },
   "outputs": [],
   "source": [
    "# First, import the relevant modules\n",
    "import requests\n"
   ]
  },
  {
   "cell_type": "markdown",
   "metadata": {},
   "source": [
    "Note: API's can change a bit with each version, for this exercise it is reccomended to use the \"V3\" quandl api at `https://www.quandl.com/api/v3/`"
   ]
  },
  {
   "cell_type": "code",
   "execution_count": 4,
   "metadata": {
    "jupyter": {
     "outputs_hidden": true
    }
   },
   "outputs": [],
   "source": [
    "# Now, call the Quandl API and pull out a small sample of the data (only one day) to get a glimpse\n",
    "# into the JSON structure that will be returned\n",
    "url = \"https://www.quandl.com/api/v3/datasets/FSE/AFX_X/data.json?start_date=2021-07-10&end_data=2021-07-11&api_key=zczZQmNtc4PTNWxCUxza\""
   ]
  },
  {
   "cell_type": "code",
   "execution_count": 5,
   "metadata": {
    "jupyter": {
     "outputs_hidden": true
    }
   },
   "outputs": [
    {
     "name": "stdout",
     "output_type": "stream",
     "text": [
      "{\"dataset_data\":{\"limit\":null,\"transform\":null,\"column_index\":null,\"column_names\":[\"Date\",\"Open\",\"High\",\"Low\",\"Close\",\"Change\",\"Traded Volume\",\"Turnover\",\"Last Price of the Day\",\"Daily Traded Units\",\"Daily Turnover\"],\"start_date\":\"2021-07-10\",\"end_date\":\"2020-12-01\",\"frequency\":\"daily\",\"data\":[],\"collapse\":null,\"order\":null}}\n"
     ]
    }
   ],
   "source": [
    "# Inspect the JSON structure of the object you created, and take note of how nested it is,\n",
    "# as well as the overall structure\n",
    "r = requests.get(url)\n",
    "print(r.text)"
   ]
  },
  {
   "cell_type": "markdown",
   "metadata": {},
   "source": [
    "These are your tasks for this mini project:\n",
    "\n",
    "1. Collect data from the Franfurt Stock Exchange, for the ticker AFX_X, for the whole year 2017 (keep in mind that the date format is YYYY-MM-DD).\n",
    "2. Convert the returned JSON object into a Python dictionary.\n",
    "3. Calculate what the highest and lowest opening prices were for the stock in this period.\n",
    "4. What was the largest change in any one day (based on High and Low price)?\n",
    "5. What was the largest change between any two days (based on Closing Price)?\n",
    "6. What was the average daily trading volume during this year?\n",
    "7. (Optional) What was the median trading volume during this year. (Note: you may need to implement your own function for calculating the median.)"
   ]
  },
  {
   "cell_type": "code",
   "execution_count": 8,
   "metadata": {
    "jupyter": {
     "outputs_hidden": true
    }
   },
   "outputs": [],
   "source": [
    "#1 Collect for 2017-01-01 through 2017-12-31\n",
    "url = \"https://www.quandl.com/api/v3/datasets/FSE/AFX_X/data.json?start_date=2017-01-01&end_data=2017-12-31&api_key=zczZQmNtc4PTNWxCUxza\"\n"
   ]
  },
  {
   "cell_type": "code",
   "execution_count": 47,
   "metadata": {},
   "outputs": [
    {
     "name": "stdout",
     "output_type": "stream",
     "text": [
      "dict_keys(['dataset_data'])\n"
     ]
    }
   ],
   "source": [
    "#2 Convert JSON to Python Dictionary\n",
    "r = requests.get(url)\n",
    "json_data = r.json()\n"
   ]
  },
  {
   "cell_type": "code",
   "execution_count": 17,
   "metadata": {},
   "outputs": [
    {
     "name": "stdout",
     "output_type": "stream",
     "text": [
      "dict_keys(['limit', 'transform', 'column_index', 'column_names', 'start_date', 'end_date', 'frequency', 'data', 'collapse', 'order'])\n",
      "['Date', 'Open', 'High', 'Low', 'Close', 'Change', 'Traded Volume', 'Turnover', 'Last Price of the Day', 'Daily Traded Units', 'Daily Turnover']\n"
     ]
    }
   ],
   "source": [
    "#3 Calculate the highest and lowest opening prices were for the stock in this period\n",
    "print(json_data['dataset_data'].keys())\n",
    "#Search column names then search 'data'\n",
    "print(json_data['dataset_data']['column_names'])"
   ]
  },
  {
   "cell_type": "code",
   "execution_count": 46,
   "metadata": {},
   "outputs": [
    {
     "name": "stdout",
     "output_type": "stream",
     "text": [
      "[112.2, 111.0, 111.0, 111.3, 111.4, 116.1, 118.0, 116.5, 115.6, 115.8, 117.9, 118.9, 115.4, 117.1, 115.0, 118.4, 116.1, 115.2, 114.7, 109.8, 108.4, 111.3, 107.2, 112.1, 113.7, 115.6, 117.5, 120.4, 119.5, 121.8, 122.1, 121.6, 118.6, 121.0, 118.6, 120.3, 115.8, 114.0, 112.1, 112.0, 110.4, 109.3, 108.0, 108.1, 108.6, 106.9, 105.0, 103.2, 100.5, 101.0, 98.5, 101.7, 100.1, 96.1, 93.1, 92.5, 93.1, 93.85, 95.6, 94.75, 96.3, 93.5, 94.5, 99.1, 94.75, 94.6, 94.75, 95.0, 95.7, 94.25, 93.85, 92.3, 92.15, 91.0, 91.0, 91.55, 91.6, 92.9, 92.2, 90.8, 94.9, 94.0, 90.2, 91.45, 89.85, 90.5, 89.0, 89.4, 91.7, 88.55, 89.5, 88.0, 90.5, 88.4, 88.6, 89.55, 88.25, 89.15, 90.65, 90.0, 90.1, 90.45, 89.25, 91.15, 92.0, 92.95, 93.8, 93.1, 89.75, 86.2, 87.0, 88.0, 88.2, 86.25, 90.05, 89.2, 90.35, 90.55, 91.6, 90.55, 88.35, 85.0, 85.65, 87.0, 89.25, 91.65, 92.65, 91.6, 92.3, 91.15, 93.3, 91.05, 88.1, 91.0, 91.1, 88.6, 87.35, 90.95, 92.5, 90.45, 85.45, 82.25, 84.7, 85.5, 91.55, 97.0, 96.35, 94.55, 92.8, 88.9, 87.65, 91.6, 90.0, 92.0, 95.05, 94.4, 94.75, 92.75, 93.4, 94.0, 93.4, 91.9, 94.0, 97.5, 93.1, 90.2, 92.0, 86.35, 83.1, 86.0, 86.5, 92.0, 85.4, 89.0, 81.5, 82.5, 79.2, 74.5, 76.65, 69.15, 74.5, 79.0, 75.0, 77.75, 77.75, 87.6, 88.25, 87.65, 95.0, 101.3, 98.3, 97.1, 96.5, 90.05, 97.95, 98.5, 105.6, 104.0, 110.1, 111.3, 110.3, 107.2, 108.9, 109.2, 110.0, 112.4, 110.1, 114.0, 116.4, 117.0, 116.4, 112.1, 110.0, 112.5, 116.8, 118.3, 118.8, 119.6, 119.5, 120.2, 120.2, 121.4, 121.2, 119.9, 120.4, 119.5, 117.6, 118.0, 119.6, 118.4, 114.2, 114.4, 112.0, 112.8, 114.0, 116.4, 116.0, 115.0, 115.9, 115.8, 115.4, 113.4, 111.9, 113.0, 113.0, 113.8, 114.0, 105.1, 106.6, 110.1, 108.6, 107.7, 111.0, 108.2, 109.1, 109.9, 108.6, 107.4, 106.1, 105.5, 104.5, 104.9, 104.0, 102.0, 102.6, 100.4, 101.1, 102.1, 101.8, 103.7, 100.5, 99.65, 98.95, 98.5, 98.05, 96.45, 95.5, 97.7, 96.1, 94.15, 100.4, 101.7, 103.7, 103.9, 103.2, 104.1, 104.0, 102.4, 103.0, 107.0, 106.3, 109.5, 108.5, 105.0, 104.9, 105.3, 104.2, 103.7, 102.3, 104.0, 103.6, 103.1, 104.9, 102.7, 102.4, 99.7, 99.0, 102.2, 101.9, 100.7, 105.5, 109.1, 106.1, 109.0, 107.4, 107.4, 104.5, 105.7, 107.0, 105.0, 103.0, 102.8, 103.4, 104.6, 101.2, 101.4, 100.3, 98.35, 100.2, 99.55, 99.05, 100.0, 99.2, 95.35, 94.15, 93.65, 96.35, 99.95, 99.6, 99.0, 100.3, 98.95, 96.5, 98.35, 98.45, 97.2, 97.7, 98.0, 97.05, 95.3, 93.0, 84.8, 86.15, 85.7, 86.05, 85.4, 85.75, 87.95, 88.05, 86.6, 85.95, 88.6, 84.5, 84.8, 85.85, 86.95, 86.9, 88.5, 89.0, 92.55, 91.7, 89.55, 89.0, 90.05, 88.8, 88.85, 85.9, 85.4, 83.8, 84.0, 83.85, 84.2, 84.0, 86.85, 87.5, 88.2, 88.5, 88.0, 87.7, 89.35, 89.5, 89.4, 86.6, 86.35, 85.1, 87.5, 86.55, 86.95, 88.4, 89.5, 87.1, 87.05, 87.6, 87.6, 86.7, 84.4, 52.05, 51.76, 51.65, 51.45, 51.05, 51.16, 51.88, 52.73, 52.37, 52.7, 53.11, 52.64, 52.29, 52.28, 51.5, 50.89, 50.8, 51.21, 49.5, 49.52, 48.64, 49.64, 49.09, 49.13, 49.11, 48.8, 48.4, 47.25, 46.57, 47.03, 47.09, 47.98, 48.4, 48.38, 47.3, 47.65, 46.42, 46.16, 45.81, 45.0, 45.88, 46.29, 46.53, 45.48, 45.2, 45.01, 45.16, 44.9, 45.08, 45.72, 46.01, 45.8, 45.61, 45.5, 45.58, 45.97, 45.64, 46.2, 46.19, 46.01, 45.36, 44.51, 43.58, 42.0, 42.35, 42.3, 42.3, 41.48, 42.29, 42.54, 42.65, 42.5, 42.29, 42.35, 42.49, 43.21, 42.81, 42.7, 43.0, 42.66, 43.0, 42.38, 42.16, 42.0, 42.0, 41.71, 42.11, 42.64, 42.72, 42.82, 42.46, 42.42, 42.28, 41.88, 42.4, 42.53, 42.12, 41.3, 41.73, 43.5, 44.9, 45.85, 45.13, 45.34, 45.25, 45.24, 44.94, 45.26, 45.16, 44.91, 44.7, 45.31, 45.57, 45.74, 45.06, 45.5, 45.6, 45.07, 44.67, 44.29, 44.94, 44.64, 44.79, 45.5, 44.67, 45.83, 45.29, 45.01, 45.73, 46.68, 47.23, 46.95, 47.29, 47.03, 47.46, 46.48, 46.9, 45.66, 46.34, 46.52, 46.5, 47.31, 46.77, 47.8, 47.01, 47.12, 46.8, 46.12, 45.22, 45.05, 45.61, 44.8, 44.8, 43.92, 43.67, 44.16, 43.74, 44.0, 45.06, 45.15, 45.09, 45.18, 43.4, 43.5, 41.83, 43.0, 42.52, 41.86, 42.2, 41.89, 42.17, 41.51, 41.88, 41.93, 42.01, 41.97, 42.5, 41.94, 42.24, 42.06, 42.02, 41.62, 41.46, 40.9, 40.96, 41.1, 39.5, 40.15, 39.77, 40.02, 39.39, 38.95, 38.73, 38.94, 39.01, 38.25, 41.8, 41.26, 41.47, 41.4, 41.4, 41.2, 41.4, 41.53, 41.61, 41.13, 41.5, 41.25, 41.12, 41.38, 41.19, 40.38, 39.75, 39.77, 39.72, 39.6, 38.85, 39.25, 38.8, 38.8, 38.5, 38.81, 37.37, 36.65, 36.2, 35.98, 35.56, 36.06, 36.02, 35.95, 34.75, 35.24, 35.38, 34.83, 35.07, 34.42, 34.0, 34.04, 34.54, 35.04, 35.04, 35.06, 34.85, 34.98, 35.38, 34.95, 34.8, 35.29, 34.91, 35.02, 35.48, 35.9, 34.99]\n",
      "The highest opening price for 2017 is: $122.1\n",
      "The lowest opening price for 2017 is: $34.0\n"
     ]
    }
   ],
   "source": [
    "#Notes: 2nd column (index 1) is labled \"Open\"\n",
    "#Need to remove None values\n",
    "opens = []\n",
    "for l in json_data['dataset_data']['data']:\n",
    "    if l[1] != None:\n",
    "        opens.append(l[1])\n",
    "\n",
    "print(\"The highest opening price for 2017 is: $\" + str(max(opens)))\n",
    "print(\"The lowest opening price for 2017 is: $\" + str(min(opens)))\n"
   ]
  },
  {
   "cell_type": "code",
   "execution_count": 33,
   "metadata": {},
   "outputs": [
    {
     "name": "stdout",
     "output_type": "stream",
     "text": [
      "The largest change in one day based on the High and Low price is: $14.099999999999994\n"
     ]
    }
   ],
   "source": [
    "#4 What is the largest change in one day (based on High and Low price)?\n",
    "# High index 2, low index 3\n",
    "# I will be using the absolute value since we want the largest change and there is no specification for direction.\n",
    "high_low_dif = []\n",
    "for l in json_data['dataset_data']['data']:\n",
    "    if l[2] != None and l[3] != None:\n",
    "        high_low_dif.append(abs(l[2] - l[3]))\n",
    "print(\"The largest change in one day based on the High and Low price is: $\" + str(max(high_low_dif)))"
   ]
  },
  {
   "cell_type": "code",
   "execution_count": 36,
   "metadata": {},
   "outputs": [
    {
     "name": "stdout",
     "output_type": "stream",
     "text": [
      "The largest change between any 2 days base on their closing price is: $11.200000000000003\n"
     ]
    }
   ],
   "source": [
    "#5 What is the largest change between any 2 days based on Closing Price?\n",
    "# Closing index 4\n",
    "# Will use abs again\n",
    "closing_dif = []\n",
    "previous = None\n",
    "current = None\n",
    "for l in json_data['dataset_data']['data']:\n",
    "    current = l[4]\n",
    "    if previous != None and current != None:\n",
    "        closing_dif.append(abs(previous - current))\n",
    "    previous = l[4]\n",
    "print(\"The largest change between any 2 days base on their closing price is: $\" + str(max(closing_dif)))"
   ]
  },
  {
   "cell_type": "code",
   "execution_count": 42,
   "metadata": {},
   "outputs": [
    {
     "name": "stdout",
     "output_type": "stream",
     "text": [
      "The average trading volume for 2017 is: 9000861.557264956\n"
     ]
    }
   ],
   "source": [
    "#6 What was the average daily trading volume during this year?\n",
    "#Traded Volume index 7\n",
    "traded_volume = []\n",
    "for l in json_data['dataset_data']['data']:\n",
    "    if l[7] != None:\n",
    "        traded_volume.append(l[7])\n",
    "print(\"The average trading volume for 2017 is: \" + str(sum(traded_volume)/len(traded_volume)))"
   ]
  },
  {
   "cell_type": "code",
   "execution_count": 45,
   "metadata": {},
   "outputs": [
    {
     "name": "stdout",
     "output_type": "stream",
     "text": [
      "The median value of the trading volume for 2017 is: 6802593.5\n"
     ]
    }
   ],
   "source": [
    "#7 What was the median trading volume during this year.\n",
    "def median(lst):\n",
    "    while len(lst) > 2:\n",
    "        lst.remove(min(lst))\n",
    "        lst.remove(max(lst))\n",
    "    if len(lst) == 2:\n",
    "        med = sum(lst) / 2\n",
    "    if len(lst) == 1:\n",
    "        med = lst[0]\n",
    "    return med\n",
    "\n",
    "#Trade volume list already exist from previous cell. traded_volume\n",
    "median_trd_vol = median(traded_volume)\n",
    "print(\"The median value of the trading volume for 2017 is: \" + str(median_trd_vol))"
   ]
  },
  {
   "cell_type": "code",
   "execution_count": null,
   "metadata": {},
   "outputs": [],
   "source": []
  }
 ],
 "metadata": {
  "kernelspec": {
   "display_name": "Python 3",
   "language": "python",
   "name": "python3"
  },
  "language_info": {
   "codemirror_mode": {
    "name": "ipython",
    "version": 3
   },
   "file_extension": ".py",
   "mimetype": "text/x-python",
   "name": "python",
   "nbconvert_exporter": "python",
   "pygments_lexer": "ipython3",
   "version": "3.7.6"
  }
 },
 "nbformat": 4,
 "nbformat_minor": 4
}
