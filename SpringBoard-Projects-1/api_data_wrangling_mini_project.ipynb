{
 "cells": [
  {
   "cell_type": "markdown",
   "source": [
    "This exercise will require you to pull some data from the Qunadl API. Qaundl is currently the most widely used aggregator of financial market data."
   ],
   "metadata": {}
  },
  {
   "cell_type": "markdown",
   "source": [
    "As a first step, you will need to register a free account on the http://www.quandl.com website."
   ],
   "metadata": {}
  },
  {
   "cell_type": "markdown",
   "source": [
    "After you register, you will be provided with a unique API key, that you should store:"
   ],
   "metadata": {}
  },
  {
   "cell_type": "code",
   "execution_count": 1,
   "source": [
    "# Store the API key as a string - according to PEP8, constants are always named in all upper case\r\n",
    "API_KEY = 'zczZQmNtc4PTNWxCUxza'"
   ],
   "outputs": [],
   "metadata": {
    "jupyter": {
     "outputs_hidden": true
    }
   }
  },
  {
   "cell_type": "markdown",
   "source": [
    "Qaundl has a large number of data sources, but, unfortunately, most of them require a Premium subscription. Still, there are also a good number of free datasets."
   ],
   "metadata": {}
  },
  {
   "cell_type": "markdown",
   "source": [
    "For this mini project, we will focus on equities data from the Frankfurt Stock Exhange (FSE), which is available for free. We'll try and analyze the stock prices of a company called Carl Zeiss Meditec, which manufactures tools for eye examinations, as well as medical lasers for laser eye surgery: https://www.zeiss.com/meditec/int/home.html. The company is listed under the stock ticker AFX_X."
   ],
   "metadata": {}
  },
  {
   "cell_type": "markdown",
   "source": [
    "You can find the detailed Quandl API instructions here: https://docs.quandl.com/docs/time-series"
   ],
   "metadata": {}
  },
  {
   "cell_type": "markdown",
   "source": [
    "While there is a dedicated Python package for connecting to the Quandl API, we would prefer that you use the *requests* package, which can be easily downloaded using *pip* or *conda*. You can find the documentation for the package here: http://docs.python-requests.org/en/master/ "
   ],
   "metadata": {}
  },
  {
   "cell_type": "markdown",
   "source": [
    "Finally, apart from the *requests* package, you are encouraged to not use any third party Python packages, such as *pandas*, and instead focus on what's available in the Python Standard Library (the *collections* module might come in handy: https://pymotw.com/3/collections/ ).\n",
    "Also, since you won't have access to DataFrames, you are encouraged to us Python's native data structures - preferably dictionaries, though some questions can also be answered using lists.\n",
    "You can read more on these data structures here: https://docs.python.org/3/tutorial/datastructures.html"
   ],
   "metadata": {}
  },
  {
   "cell_type": "markdown",
   "source": [
    "Keep in mind that the JSON responses you will be getting from the API map almost one-to-one to Python's dictionaries. Unfortunately, they can be very nested, so make sure you read up on indexing dictionaries in the documentation provided above."
   ],
   "metadata": {}
  },
  {
   "cell_type": "code",
   "execution_count": 2,
   "source": [
    "# First, import the relevant modules\r\n",
    "import requests"
   ],
   "outputs": [],
   "metadata": {
    "jupyter": {
     "outputs_hidden": true
    }
   }
  },
  {
   "cell_type": "markdown",
   "source": [
    "Note: API's can change a bit with each version, for this exercise it is reccomended to use the \"V3\" quandl api at `https://www.quandl.com/api/v3/`"
   ],
   "metadata": {}
  },
  {
   "cell_type": "code",
   "execution_count": 3,
   "source": [
    "# Now, call the Quandl API and pull out a small sample of the data (only one day) to get a glimpse\r\n",
    "# into the JSON structure that will be returned\r\n",
    "url = \"https://www.quandl.com/api/v3/datasets/FSE/AFX_X/data.json?start_date=2021-07-10&end_data=2021-07-11&api_key=zczZQmNtc4PTNWxCUxza\""
   ],
   "outputs": [],
   "metadata": {
    "jupyter": {
     "outputs_hidden": true
    }
   }
  },
  {
   "cell_type": "code",
   "execution_count": 4,
   "source": [
    "# Inspect the JSON structure of the object you created, and take note of how nested it is,\r\n",
    "# as well as the overall structure\r\n",
    "r = requests.get(url)\r\n",
    "print(r.text)"
   ],
   "outputs": [
    {
     "output_type": "stream",
     "name": "stdout",
     "text": [
      "{\"dataset_data\":{\"limit\":null,\"transform\":null,\"column_index\":null,\"column_names\":[\"Date\",\"Open\",\"High\",\"Low\",\"Close\",\"Change\",\"Traded Volume\",\"Turnover\",\"Last Price of the Day\",\"Daily Traded Units\",\"Daily Turnover\"],\"start_date\":\"2021-07-10\",\"end_date\":\"2020-12-01\",\"frequency\":\"daily\",\"data\":[],\"collapse\":null,\"order\":null}}\n"
     ]
    }
   ],
   "metadata": {
    "jupyter": {
     "outputs_hidden": true
    }
   }
  },
  {
   "cell_type": "markdown",
   "source": [
    "These are your tasks for this mini project:\n",
    "\n",
    "1. Collect data from the Franfurt Stock Exchange, for the ticker AFX_X, for the whole year 2017 (keep in mind that the date format is YYYY-MM-DD).\n",
    "2. Convert the returned JSON object into a Python dictionary.\n",
    "3. Calculate what the highest and lowest opening prices were for the stock in this period.\n",
    "4. What was the largest change in any one day (based on High and Low price)?\n",
    "5. What was the largest change between any two days (based on Closing Price)?\n",
    "6. What was the average daily trading volume during this year?\n",
    "7. (Optional) What was the median trading volume during this year. (Note: you may need to implement your own function for calculating the median.)"
   ],
   "metadata": {}
  },
  {
   "cell_type": "code",
   "execution_count": 5,
   "source": [
    "#1 Collect for 2017-01-01 through 2017-12-31\r\n",
    "url = \"https://www.quandl.com/api/v3/datasets/FSE/AFX_X/data.json?start_date=2017-01-01&end_data=2017-12-31&api_key=zczZQmNtc4PTNWxCUxza\""
   ],
   "outputs": [],
   "metadata": {
    "jupyter": {
     "outputs_hidden": true
    }
   }
  },
  {
   "cell_type": "code",
   "execution_count": 6,
   "source": [
    "#2 Convert JSON to Python Dictionary\r\n",
    "r = requests.get(url)\r\n",
    "json_data = r.json()"
   ],
   "outputs": [],
   "metadata": {}
  },
  {
   "cell_type": "code",
   "execution_count": 7,
   "source": [
    "#3 Calculate the highest and lowest opening prices were for the stock in this period\r\n",
    "print(json_data['dataset_data'].keys())\r\n",
    "#Search column names then search 'data'\r\n",
    "print(json_data['dataset_data']['column_names'])"
   ],
   "outputs": [
    {
     "output_type": "stream",
     "name": "stdout",
     "text": [
      "dict_keys(['limit', 'transform', 'column_index', 'column_names', 'start_date', 'end_date', 'frequency', 'data', 'collapse', 'order'])\n",
      "['Date', 'Open', 'High', 'Low', 'Close', 'Change', 'Traded Volume', 'Turnover', 'Last Price of the Day', 'Daily Traded Units', 'Daily Turnover']\n"
     ]
    }
   ],
   "metadata": {}
  },
  {
   "cell_type": "code",
   "execution_count": 8,
   "source": [
    "#Notes: 2nd column (index 1) is labled \"Open\"\r\n",
    "#Need to remove None values\r\n",
    "opens = []\r\n",
    "for l in json_data['dataset_data']['data']:\r\n",
    "    if l[1] != None:\r\n",
    "        opens.append(l[1])\r\n",
    "print(\"The highest opening price for 2017 is: $\" + str(max(opens)))\r\n",
    "print(\"The lowest opening price for 2017 is: $\" + str(min(opens)))"
   ],
   "outputs": [
    {
     "output_type": "stream",
     "name": "stdout",
     "text": [
      "The highest opening price for 2017 is: $122.1\n",
      "The lowest opening price for 2017 is: $34.0\n"
     ]
    }
   ],
   "metadata": {}
  },
  {
   "cell_type": "code",
   "execution_count": 9,
   "source": [
    "#4 What is the largest change in one day (based on High and Low price)?\r\n",
    "# High index 2, low index 3\r\n",
    "# I will be using the absolute value since we want the largest change and there is no specification for direction.\r\n",
    "high_low_dif = []\r\n",
    "for l in json_data['dataset_data']['data']:\r\n",
    "    if l[2] != None and l[3] != None:\r\n",
    "        high_low_dif.append(abs(l[2] - l[3]))\r\n",
    "print(\"The largest change in one day based on the high and low price is: $\" + str(max(high_low_dif)))"
   ],
   "outputs": [
    {
     "output_type": "stream",
     "name": "stdout",
     "text": [
      "The largest change in one day based on the high and low price is: $14.099999999999994\n"
     ]
    }
   ],
   "metadata": {}
  },
  {
   "cell_type": "code",
   "execution_count": 10,
   "source": [
    "#5 What is the largest change between any 2 days based on Closing Price?\r\n",
    "# Closing index 4\r\n",
    "# Will use abs again\r\n",
    "closing_dif = []\r\n",
    "previous = None\r\n",
    "current = None\r\n",
    "for l in json_data['dataset_data']['data']:\r\n",
    "    current = l[4]\r\n",
    "    if previous != None and current != None:\r\n",
    "        closing_dif.append(abs(previous - current))\r\n",
    "    previous = l[4]\r\n",
    "print(\"The largest change between any 2 days base on their closing price is: $\" + str(max(closing_dif)))"
   ],
   "outputs": [
    {
     "output_type": "stream",
     "name": "stdout",
     "text": [
      "The largest change between any 2 days base on their closing price is: $11.200000000000003\n"
     ]
    }
   ],
   "metadata": {}
  },
  {
   "cell_type": "code",
   "execution_count": 11,
   "source": [
    "#6 What was the average daily trading volume during this year?\r\n",
    "#Traded Volume index 7\r\n",
    "traded_volume = []\r\n",
    "for l in json_data['dataset_data']['data']:\r\n",
    "    if l[7] != None:\r\n",
    "        traded_volume.append(l[7])\r\n",
    "print(\"The average trading volume for 2017 is: \" + str(sum(traded_volume)/len(traded_volume)))"
   ],
   "outputs": [
    {
     "output_type": "stream",
     "name": "stdout",
     "text": [
      "The average trading volume for 2017 is: 9000861.557264956\n"
     ]
    }
   ],
   "metadata": {}
  },
  {
   "cell_type": "code",
   "execution_count": 12,
   "source": [
    "#7 What was the median trading volume during this year.\r\n",
    "def median(lst):\r\n",
    "    while len(lst) > 2:\r\n",
    "        lst.remove(min(lst))\r\n",
    "        lst.remove(max(lst))\r\n",
    "    if len(lst) == 2:\r\n",
    "        med = sum(lst) / 2\r\n",
    "    if len(lst) == 1:\r\n",
    "        med = lst[0]\r\n",
    "    return med\r\n",
    "#Trade volume list already exist from previous cell. traded_volume\r\n",
    "#We could be more efficient with the above equation by sorting the list and then just removing the first and last elements of the list until 2 or fewer elements were left in the list.\r\n",
    "median_trd_vol = median(traded_volume)\r\n",
    "print(\"The median value of the trading volume for 2017 is: \" + str(median_trd_vol))"
   ],
   "outputs": [
    {
     "output_type": "stream",
     "name": "stdout",
     "text": [
      "The median value of the trading volume for 2017 is: 6802593.5\n"
     ]
    }
   ],
   "metadata": {}
  },
  {
   "cell_type": "code",
   "execution_count": null,
   "source": [],
   "outputs": [],
   "metadata": {}
  }
 ],
 "metadata": {
  "kernelspec": {
   "display_name": "Python 3",
   "language": "python",
   "name": "python3"
  },
  "language_info": {
   "codemirror_mode": {
    "name": "ipython",
    "version": 3
   },
   "file_extension": ".py",
   "mimetype": "text/x-python",
   "name": "python",
   "nbconvert_exporter": "python",
   "pygments_lexer": "ipython3",
   "version": "3.7.6"
  }
 },
 "nbformat": 4,
 "nbformat_minor": 4
}